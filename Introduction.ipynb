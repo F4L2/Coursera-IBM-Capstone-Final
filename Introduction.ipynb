{
 "cells": [
  {
   "cell_type": "markdown",
   "metadata": {
    "collapsed": true
   },
   "source": [
    "# **Battle of neighborhoods**  \n",
    "\n",
    "For the final assignment we will work with the Velib service in Paris. \n",
    "\n",
    "Velib is a departmental service that started more than a decade ago, the county department deploys a bunch of bicycle racks in different area of the city and populate them with special bikes that are freed when we pass our card or enter our subscription code as shown here : https://www.youtube.com/watch?v=dMNBTMiYLuk  \n",
    "We can then use the bike for \"free\" during 30 minutes or longer but with additionnal fees. The course ends when we put the bike back in another rack.  \n",
    "If the travel is long you can also feed it into the rack and take it back at mid-travel so it doesn't add fees.  \n",
    "The subscription costs about 40€ to 100€ a year.\n",
    "\n",
    "Every so often a staff will come to collect or fill the racks to regulate the bikes.  \n",
    "But this is seems to be done poorly as shown here: https://www.youtube.com/watch?v=Fwvoke0oB1Q or here: https://www.youtube.com/watch?v=wy2tQHwgTbE  \n",
    "Many racks are empty thus users just can't use the service.  \n",
    "From my understanding part of the problem is due to the new operator and vandalism but another part is simply poor management of the bikes. We'll try to remediate to that specific issue.  \n",
    "\n",
    "\n",
    "Here we'll try to answer this simple question, using **Foursquare API**: https://fr.foursquare.com/ and **Paris' Velib dataset** : https://opendata.paris.fr/explore/dataset/velib-disponibilite-en-temps-reel/information/  \n",
    "To define the most and least popular areas, find out what are the surrounding attributes that makes them popular and predict what racks will be during the day.  \n",
    "Then find a strategy so the mayor can make a better use of our tax money.\n"
   ]
  },
  {
   "cell_type": "code",
   "execution_count": null,
   "metadata": {},
   "outputs": [],
   "source": []
  }
 ],
 "metadata": {
  "kernelspec": {
   "display_name": "Python 3.6",
   "language": "python",
   "name": "python3"
  },
  "language_info": {
   "codemirror_mode": {
    "name": "ipython",
    "version": 3
   },
   "file_extension": ".py",
   "mimetype": "text/x-python",
   "name": "python",
   "nbconvert_exporter": "python",
   "pygments_lexer": "ipython3",
   "version": "3.6.8"
  }
 },
 "nbformat": 4,
 "nbformat_minor": 1
}
