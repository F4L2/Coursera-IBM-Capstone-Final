{
 "cells": [
  {
   "cell_type": "markdown",
   "metadata": {
    "collapsed": true
   },
   "source": [
    "# **Battle of neighborhoods**  \n",
    "## Introduction\n",
    "\n",
    "In this project we will work on the Velib service in Paris. \n",
    "\n",
    "Velib is a departmental service that started more than a decade ago, the county department deploys a bunch of bicycle racks in different area of the city and populate them with special bikes that are freed when we pass our card or enter our subscription code as shown here : https://www.youtube.com/watch?v=dMNBTMiYLuk  \n",
    "We can then use the bike for \"free\" during 30 minutes or longer but with additionnal fees. The course ends when we put the bike back in another rack.  \n",
    "If the travel is long you can also feed it into the rack and take it back at mid-travel so it doesn't add fees.  \n",
    "\n",
    "Every so often a staff will come to collect or fill the racks to regulate the bikes.  \n",
    "But this seems improvable as many racks stays empty.  \n",
    "\n",
    "A few pists were given here: https://www.youtube.com/watch?v=Fwvoke0oB1Q or here: https://www.youtube.com/watch?v=wy2tQHwgTbE  \n",
    "In summary part of the problem is due vandalism and the change of operator. But let's forget the operator for the sake of simplicity.  \n",
    "\n",
    "Our goal will be to find out which areas often end up empty and try to understand why it happens.  \n",
    "Is it vandalism, who are doing it ? It might also just be poor management.  \n"
   ]
  },
  {
   "cell_type": "markdown",
   "metadata": {},
   "source": [
    "## Data\n",
    "\n",
    "Here we'll try to answer this simple question, using :  \n",
    "**Foursquare API**: https://fr.foursquare.com/  \n",
    "**Paris' Velib disponibility dataset** : https://opendata.paris.fr/explore/dataset/velib-disponibilite-en-temps-reel/information/  \n",
    "**Paris' Velib location dataset** : https://opendata.paris.fr/explore/dataset/velib-emplacement-des-stations/information/  \n",
    "**Paris anomalie dataset** : https://opendata.paris.fr/explore/dataset/dans-ma-rue/information/?disjunctive.type&disjunctive.soustype&disjunctive.code_postal&disjunctive.ville&disjunctive.arrondissement&disjunctive.prefixe&disjunctive.conseilquartier\n",
    "\n",
    "\n",
    "We can use the signaled anomalies and the foursquare api to evaluate the demographic of a certain area.  \n",
    "And the Velib's datasets of course.  "
   ]
  },
  {
   "cell_type": "code",
   "execution_count": null,
   "metadata": {},
   "outputs": [],
   "source": []
  }
 ],
 "metadata": {
  "kernelspec": {
   "display_name": "Python 3.6",
   "language": "python",
   "name": "python3"
  },
  "language_info": {
   "codemirror_mode": {
    "name": "ipython",
    "version": 3
   },
   "file_extension": ".py",
   "mimetype": "text/x-python",
   "name": "python",
   "nbconvert_exporter": "python",
   "pygments_lexer": "ipython3",
   "version": "3.6.8"
  }
 },
 "nbformat": 4,
 "nbformat_minor": 1
}
